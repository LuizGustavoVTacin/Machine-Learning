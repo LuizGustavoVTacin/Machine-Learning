{
 "cells": [
  {
   "cell_type": "code",
   "execution_count": 1,
   "id": "dc8068ce",
   "metadata": {},
   "outputs": [],
   "source": [
    "from torchvision import datasets\n",
    "from torchvision.transforms import ToTensor"
   ]
  },
  {
   "cell_type": "code",
   "execution_count": 2,
   "id": "95abc2bf",
   "metadata": {},
   "outputs": [
    {
     "name": "stdout",
     "output_type": "stream",
     "text": [
      "Tamanho do conjunto de treino: 120000\n",
      "Tamanho do conjunto de teste: 10000\n"
     ]
    }
   ],
   "source": [
    "from torchvision import datasets, transforms\n",
    "from torch.utils.data import DataLoader, ConcatDataset\n",
    "\n",
    "# Transformações para treino (com rotação)\n",
    "train_transform = transforms.Compose([\n",
    "    transforms.RandomRotation(degrees=15),  # Rotaciona entre -15° e +15°\n",
    "    transforms.RandomHorizontalFlip(),  # Flip horizontal aleatório\n",
    "    transforms.RandomAffine(degrees=0, translate=(0.1, 0.1)),  # Translação aleatória\n",
    "    transforms.ToTensor(),\n",
    "    transforms.Normalize((0.5,), (0.5,))\n",
    "])\n",
    "\n",
    "# Transformações para teste (sem rotação)\n",
    "test_transform = transforms.Compose([\n",
    "    transforms.ToTensor(),\n",
    "    transforms.Normalize((0.5,), (0.5,))\n",
    "])\n",
    "\n",
    "# Datasets originais\n",
    "train_dataset = datasets.FashionMNIST(root='data', train=True, transform=test_transform, download=True)\n",
    "test_dataset = datasets.FashionMNIST(root='data', train=False, transform=test_transform, download=True)\n",
    "\n",
    "# Datasets com imagens rotacionadas\n",
    "train_dataset_rot = datasets.FashionMNIST(root='data', train=True, transform=train_transform, download=True)\n",
    "\n",
    "# Junta os dois conjuntos (originais + rotacionados)\n",
    "train_dataset_total = ConcatDataset([train_dataset, train_dataset_rot])\n",
    "\n",
    "# Loaders\n",
    "train_loader = DataLoader(train_dataset_total, batch_size=64, shuffle=True)\n",
    "test_loader = DataLoader(test_dataset, batch_size=64, shuffle=False)\n",
    "\n",
    "print(f'Tamanho do conjunto de treino: {len(train_dataset_total)}')\n",
    "print(f'Tamanho do conjunto de teste: {len(test_dataset)}')\n"
   ]
  },
  {
   "cell_type": "code",
   "execution_count": 3,
   "id": "9a8d1d26",
   "metadata": {},
   "outputs": [
    {
     "name": "stdout",
     "output_type": "stream",
     "text": [
      "Usando cuda device\n",
      "NeuralNetwork(\n",
      "  (flatten): Flatten(start_dim=1, end_dim=-1)\n",
      "  (linear_relu_stack): Sequential(\n",
      "    (0): Linear(in_features=784, out_features=512, bias=True)\n",
      "    (1): ReLU()\n",
      "    (2): Linear(in_features=512, out_features=256, bias=True)\n",
      "    (3): ReLU()\n",
      "    (4): Linear(in_features=256, out_features=128, bias=True)\n",
      "    (5): ReLU()\n",
      "    (6): Linear(in_features=128, out_features=10, bias=True)\n",
      "  )\n",
      ")\n"
     ]
    }
   ],
   "source": [
    "import torch\n",
    "from torch import nn\n",
    "\n",
    "device = \"cuda\" if torch.cuda.is_available() else \"cpu\"\n",
    "print(f\"Usando {device} device\")\n",
    "\n",
    "class NeuralNetwork(nn.Module):\n",
    "    def __init__(self):\n",
    "        super().__init__()\n",
    "        self.flatten = nn.Flatten()\n",
    "        self.linear_relu_stack = nn.Sequential(\n",
    "\n",
    "            nn.Linear(28*28, 512), \n",
    "            # nn.BatchNorm1d(512), \n",
    "            nn.ReLU(),\n",
    "            # nn.Dropout(0.2),\n",
    "            nn.Linear(512, 256),\n",
    "            # nn.BatchNorm1d(256),\n",
    "            nn.ReLU(),\n",
    "            # nn.Dropout(0.2),\n",
    "            nn.Linear(256, 128), \n",
    "            # nn.BatchNorm1d(512), \n",
    "            nn.ReLU(),\n",
    "            # nn.Dropout(0.2),            \n",
    "            nn.Linear(128, 10),\n",
    "            # nn.Softmax(dim=1)\n",
    "        )\n",
    "\n",
    "    def forward(self, x):\n",
    "        x = self.flatten(x)\n",
    "        logits = self.linear_relu_stack(x)\n",
    "        return logits\n",
    "    \n",
    "model = NeuralNetwork().to(device)\n",
    "print(model)"
   ]
  },
  {
   "cell_type": "code",
   "execution_count": 4,
   "id": "c31ccbd2",
   "metadata": {},
   "outputs": [],
   "source": [
    "loss_fn = nn.CrossEntropyLoss()\n",
    "optimizer = torch.optim.Adam(model.parameters(), lr=1e-3, weight_decay=1e-4)"
   ]
  },
  {
   "cell_type": "code",
   "execution_count": 5,
   "id": "8980fde1",
   "metadata": {},
   "outputs": [],
   "source": [
    "train_losses = []\n",
    "test_losses = []\n",
    "train_accuracies = []\n",
    "test_accuracies = []\n",
    "\n",
    "def train_and_validate(model, train_loader, test_loader, loss_fn, optimizer, epochs):\n",
    "    device = next(model.parameters()).device\n",
    "\n",
    "    for epoch in range(epochs):\n",
    "        # ------------------ TREINAMENTO ------------------\n",
    "        model.train()\n",
    "        running_loss = 0.0\n",
    "        correct_train = 0\n",
    "        total_train = 0\n",
    "\n",
    "        for batch_idx, (X, y) in enumerate(train_loader):\n",
    "            X = X.to(device)\n",
    "            y = y.to(device)\n",
    "\n",
    "            optimizer.zero_grad()\n",
    "            outputs = model(X)\n",
    "            loss = loss_fn(outputs, y)\n",
    "            loss.backward()\n",
    "            optimizer.step()\n",
    "\n",
    "            running_loss += loss.item()\n",
    "\n",
    "            # Acurácia de treino\n",
    "            _, predicted = torch.max(outputs.data, 1)\n",
    "            total_train += y.size(0)\n",
    "            correct_train += (predicted == y).sum().item()\n",
    "\n",
    "        avg_train_loss = running_loss / len(train_loader)\n",
    "        train_acc = 100 * correct_train / total_train\n",
    "        train_losses.append(avg_train_loss)\n",
    "        train_accuracies.append(train_acc)\n",
    "\n",
    "        # ------------------ VALIDAÇÃO ------------------\n",
    "        model.eval()\n",
    "        val_running_loss = 0.0\n",
    "        correct_val = 0\n",
    "        total_val = 0\n",
    "\n",
    "        with torch.no_grad():\n",
    "            for X, y in test_loader:\n",
    "                X = X.to(device)\n",
    "                y = y.to(device)\n",
    "\n",
    "                outputs = model(X)\n",
    "                loss_val = loss_fn(outputs, y)\n",
    "                val_running_loss += loss_val.item()\n",
    "\n",
    "                _, predicted = torch.max(outputs.data, 1)\n",
    "                total_val += y.size(0)\n",
    "                correct_val += (predicted == y).sum().item()\n",
    "\n",
    "        avg_val_loss = val_running_loss / len(test_loader)\n",
    "        val_acc = 100 * correct_val / total_val\n",
    "        test_losses.append(avg_val_loss)\n",
    "        test_accuracies.append(val_acc)\n",
    "\n",
    "        # ------------------ EXIBIÇÃO ------------------\n",
    "        print(f\"Epoch [{epoch+1}/{epochs}] | \"\n",
    "              f\"Train Loss: {avg_train_loss:.4f} | \"\n",
    "              f\"Val Loss: {avg_val_loss:.4f} | \"\n",
    "              f\"Train Acc: {train_acc:.2f}% | \"\n",
    "              f\"Val Acc: {val_acc:.2f}%\")\n"
   ]
  },
  {
   "cell_type": "code",
   "execution_count": null,
   "id": "1a1f3a81",
   "metadata": {},
   "outputs": [
    {
     "name": "stdout",
     "output_type": "stream",
     "text": [
      "Epoch [1/20] | Train Loss: 0.6365 | Val Loss: 0.4300 | Train Acc: 76.03% | Val Acc: 84.52%\n"
     ]
    }
   ],
   "source": [
    "num_epochs = 20\n",
    "train_and_validate(model, train_loader, test_loader, loss_fn, optimizer, num_epochs)\n",
    "\n",
    "import matplotlib.pyplot as plt\n",
    "\n",
    "plt.figure(figsize=(10,5))\n",
    "plt.plot(range(1, num_epochs+1), train_losses, label='Train Loss')\n",
    "plt.plot(range(1, num_epochs+1), test_losses, label='Test Loss')\n",
    "plt.xlabel('Epochs')\n",
    "plt.ylabel('Loss')\n",
    "plt.title('Train and Test Loss')\n",
    "plt.legend()\n",
    "plt.show()"
   ]
  }
 ],
 "metadata": {
  "kernelspec": {
   "display_name": "Python 3",
   "language": "python",
   "name": "python3"
  },
  "language_info": {
   "codemirror_mode": {
    "name": "ipython",
    "version": 3
   },
   "file_extension": ".py",
   "mimetype": "text/x-python",
   "name": "python",
   "nbconvert_exporter": "python",
   "pygments_lexer": "ipython3",
   "version": "3.12.10"
  }
 },
 "nbformat": 4,
 "nbformat_minor": 5
}
