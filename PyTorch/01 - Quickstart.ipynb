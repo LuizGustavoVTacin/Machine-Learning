{
 "cells": [
  {
   "cell_type": "markdown",
   "id": "1aadc69b",
   "metadata": {},
   "source": [
    "# Tópicos\n",
    "\n",
    "1. Working with data\n",
    "\n",
    "2. Criando modelos\n",
    "\n",
    "3. Otimizando parâmetros do modelo\n",
    "\n",
    "4. Salvando modelos\n",
    "\n",
    "5. Carregando modelos\n",
    "\n",
    "6. Visualizando Imagens\n",
    "\n",
    "7. Observando múltiplos dados"
   ]
  },
  {
   "cell_type": "markdown",
   "id": "cdd0f7d5",
   "metadata": {},
   "source": [
    "# Working with data\n",
    "\n",
    "PyTorch contém datasets integrados para aprendizado inicial\n",
    "\n",
    "Dataset usando para tutorial: FashionMNIST\n",
    "\n",
    "```torchvision.datasets```contem ```Dataset``` para datasets de visão computacional, como CIFAR, COCO."
   ]
  },
  {
   "cell_type": "code",
   "execution_count": 11,
   "id": "d9ae4e7d",
   "metadata": {},
   "outputs": [],
   "source": [
    "from torchvision import datasets\n",
    "from torchvision.transforms import ToTensor\n",
    "\n",
    "# Download training data from open datasets.\n",
    "training_data = datasets.FashionMNIST(\n",
    "    root=\"data\",\n",
    "    train=True,\n",
    "    download=True,\n",
    "    transform=ToTensor(),\n",
    ")\n",
    "\n",
    "# Download test data from open datasets.\n",
    "test_data = datasets.FashionMNIST(\n",
    "    root=\"data\",\n",
    "    train=False,\n",
    "    download=True,\n",
    "    transform=ToTensor(),\n",
    ")"
   ]
  },
  {
   "cell_type": "markdown",
   "id": "5c70d7fb",
   "metadata": {},
   "source": [
    "O dataset é passado no argumento da função ```DataLoader```para criar objeto iterável para\n",
    "\n",
    "1. **batching**: subconjunto de dados de treinamento que é usado em uma única iteração de um algoritmo de otimização, como gradiente descendente\n",
    "\n",
    "    Principais modos de batch:\n",
    "\n",
    "    * Full-batch: O tamanho do lote é igual ao tamanho total do conjunto de dados\n",
    "    * Modo Mini-Batch: O tamanho do lote é maior que 1, mas menor que o conjunto de dados total\n",
    "    * Stochastic: O tamanho do lado é 1\n",
    "\n",
    "    Batches menores tendem a introduzir mais ruído no processo de otimização, o que pode ajudar a rede a escapar de mínimos locais e encontrar soluções melhores, mas leva a convergência mais lenta\n",
    "\n",
    "    Batches maiores resultam em uma estimativa de gradiente mais precisa, permitindo que a rede avance mais rapidamente em direção a um mínimo mas podem ficar presos em mínimos locais e exigem mais memória\n",
    "\n",
    "2. **Sampling**: Técnica mais ampla que preocupa com a composição da amostra para garantir que o subconjunto de dados seja representativo do conjunto de dados total.\n",
    "\n",
    "    Principais modos de sampling:\n",
    "\n",
    "    * Amostragem aleatória: Subconjunto de dados complementares aleatórios\n",
    "    * Amostragem estratificada: Criação de subgrupos com características comuns e, então, amostras são coletadas de cada subgrupo para formar um subconjunto. Útil com amostras desbalanceadas, como, por exemplo, detecção de fraudes (classe minoritária é preservada na amostra).\n",
    "    * Sobreamostragem e subamostragem: Técnica para conjuntos desbalanceados. A sobreamostragem aumenta o número de exemplos de classe minoritária, enquanto a subamostragem reduz o número de exemplos de classe majoritária.\n",
    "\n",
    "3. **shuffling**: Técnica para randomizar a ordem dos dados de treinamento antes ou durante de cada época. O objetivo é evitar que o modelo aprenda padrões baseados na ordem que os dados são apresentados.\n",
    "\n",
    "4. **multiprocess**: Paralelização do trinamento\n",
    "\n",
    "No exemplo, o batch size é definido com o valor de 64, de forma que cada elemento iterável no DataLoader retornará um batch de 64 elementos."
   ]
  },
  {
   "cell_type": "code",
   "execution_count": 12,
   "id": "64e3fa2b",
   "metadata": {},
   "outputs": [
    {
     "name": "stdout",
     "output_type": "stream",
     "text": [
      "Tamanho do conjunto de treino: 938\n",
      "Tamanho do conjunto de teste: 157\n",
      "Shape of X [N, C, H, W]: torch.Size([64, 1, 28, 28])\n",
      "Shape of y: torch.Size([64]) torch.int64\n"
     ]
    }
   ],
   "source": [
    "from torch.utils.data import DataLoader\n",
    "\n",
    "batch_size = 64\n",
    "\n",
    "# Create data loaders.\n",
    "train_dataloader = DataLoader(training_data, batch_size=batch_size)\n",
    "test_dataloader = DataLoader(test_data, batch_size=batch_size)\n",
    "\n",
    "print(f'Tamanho do conjunto de treino: {len(train_dataloader)}')\n",
    "print(f'Tamanho do conjunto de teste: {len(test_dataloader)}')\n",
    "\n",
    "# X recebe um batch (64 elementos)\n",
    "# y recebe um batch de 64 labels correspondentes aos dados em X\n",
    "# break irá encerrar após a primeira iteração\n",
    "for X, y in test_dataloader:\n",
    "    print(f\"Shape of X [N, C, H, W]: {X.shape}\")\n",
    "    print(f\"Shape of y: {y.shape} {y.dtype}\")\n",
    "    break\n",
    "\n",
    "# N retorna 64 -> tamanho do batch\n",
    "# C, H e W -> Dimensão para os dados, como canais de cor, altura e largura para dados de imagem"
   ]
  },
  {
   "cell_type": "markdown",
   "id": "14cf0dc0",
   "metadata": {},
   "source": [
    "# Criando Modelos\n",
    "\n",
    "Modelos com PyTorch são criados com classes que herdam de ```n.Module```.\n",
    "\n",
    "As camadas da rede são definidas na função ```__init__```e a forma que os dados passam pela rede na função ```forward```.\n",
    "\n",
    "* ```nn.Flatten```converte uma imagem 2D para um array contínuo\n",
    "* ```nn.Linear```aplicada uma transformação linear na entrada, usando pesos e limiares armazenados\n",
    "* ```nn.ReLU``` ativações não lineares criam mapeamentos complexos entre as entradas e saídas. Elas são aplicadas após a transformação linear para introduzir não linearidades para judar a rede a aprender fenômenos diversos.\n",
    "\n",
    "```ReLU(f(X) = max(0, x))```\n",
    "\n",
    "* ```nn.Sequential``` é um container ordenado de módulos. Os dados são passados todos na mesma ordem definida"
   ]
  },
  {
   "cell_type": "code",
   "execution_count": 13,
   "id": "e4a23156",
   "metadata": {},
   "outputs": [
    {
     "name": "stdout",
     "output_type": "stream",
     "text": [
      "Using cuda device\n",
      "NeuralNetwork(\n",
      "  (flatten): Flatten(start_dim=1, end_dim=-1)\n",
      "  (linear_relu_stack): Sequential(\n",
      "    (0): Linear(in_features=784, out_features=512, bias=True)\n",
      "    (1): ReLU()\n",
      "    (2): Linear(in_features=512, out_features=512, bias=True)\n",
      "    (3): ReLU()\n",
      "    (4): Linear(in_features=512, out_features=10, bias=True)\n",
      "  )\n",
      ")\n"
     ]
    }
   ],
   "source": [
    "import torch\n",
    "from torch import nn\n",
    "\n",
    "device = torch.accelerator.current_accelerator().type if torch.accelerator.is_available() else \"cpu\"\n",
    "print(f\"Using {device} device\")\n",
    "\n",
    "# Define model\n",
    "class NeuralNetwork(nn.Module):\n",
    "    def __init__(self):\n",
    "        super().__init__()\n",
    "        self.flatten = nn.Flatten()\n",
    "        self.linear_relu_stack = nn.Sequential(\n",
    "            nn.Linear(28*28, 512),\n",
    "            nn.ReLU(),\n",
    "            nn.Linear(512, 512),\n",
    "            nn.ReLU(),\n",
    "            nn.Linear(512, 10)\n",
    "        )\n",
    "\n",
    "    def forward(self, x):\n",
    "        x = self.flatten(x)\n",
    "        logits = self.linear_relu_stack(x)\n",
    "        return logits\n",
    "\n",
    "model = NeuralNetwork().to(device)\n",
    "print(model)"
   ]
  },
  {
   "cell_type": "markdown",
   "id": "71a00da4",
   "metadata": {},
   "source": [
    "# Otimizando parâmetros do modelo\n",
    "\n",
    "Para treinar o modelo, são necessários <u>Loss Function</u> e um <u>otimizador</u>\n",
    "\n",
    "1. **Loss Function**: Função matemática que mede a diferença entre saída prevista de um modelo e o valor real. O principal objetivo é a minimização da função de perda.\n",
    "\n",
    "    Principais tipos para Regressões:\n",
    "\n",
    "    * **Mean Squared Error (MSE)**: Média do quadrado das diferenças entre os valores previstos e os valores reais.\n",
    "\n",
    "        * Penaliza erros maiores de forma mais severa devido ao quadrado, tornando sensível a *outliers*.\n",
    "\n",
    "    * **Mean Absolute Error (MAE)**: Calcula a média das diferenças absolutas entre os valores previstos e reais\n",
    "        * Útil quando o conjunto de dados contém valores discrepantes que não devem influenciar o modelo\n",
    "\n",
    "    * **Huber Loss**: Função de perda híbrida que combina MSE e MAE.\n",
    "        * Útil quando há presença de *outliers* e é necessário bom equilíbrio\n",
    "\n",
    "    Principais tipos para Classificações:\n",
    "\n",
    "    * **Binary Cross-Entropy**: Mede a diferença entre a distribuição de probabilidade prevista pelo modelo e a distribuiçãoo real\n",
    "        * Útil para classificação de duas classes, como detecção de *spam* pu *diagnóstico de doenças*.\n",
    "\n",
    "    * **Categorical Cross-Entropy**: Extensão de Binary Cross-Entropy para problemas com mais de duas classes\n",
    "\n",
    "    *  **Sparse Categorical Cross-Entropy**: Semelhante a categorical Cross-Entropy, mas usada quando os rótulos de classe são inteiros em vez de vetores one-hot encoded.\n",
    "\n",
    "2. **Otimizadores**: São algoritmos para ajuste de parâmetros internos do modelo (Pesos e Vieses) para minimizar função de perda. Indicam qual a direção e com qual intensidade os parâmetros devem ser alterados a cada alteração.\n",
    "\n",
    "    Principais otimizadores:\n",
    "\n",
    "    * **SGD (Stochastic Gradient Decendent)**: Para cada mini-batch (subconjunto de um batch), o SGD calcula o gradiente da função de perda em relação aos parâmetros do modelo.\n",
    "        * Útil com conjuntos de dados pequenos ou problemas menos complexos, onde a simplicidade e a eficiência computacional são prioritárias.\n",
    "\n",
    "    * **SGC com Momento**: Adiciona um termo de momento que acelera a convergência na direção correta e reduz a oscilação.\n",
    "        * Útil com modelos profundos, onde a complexidade da paisagem de perda pode dificultar a convergência para o SGD padrão.\n",
    "\n",
    "    * **AdaGrad**: Adapta a taxa de aprendizado para cada parâmetro individualmente. Diminui a taxa de aprendizado para parâmetros com grandes gradientes e aumenta para aqueles com pequenos gradientes.\n",
    "        * Útil com dados esparsos (por exemplo, dados de processamento de linguagem natural), onde alguns recursos são raros e outros são frequentes.\n",
    "\n",
    "    * **RMSprop**: Similar ao AdaGrad, mas utiliza uma média móvel dos quadrados dos gradientes para evitar que a taxa de aprendizado diminua rapidamente.\n",
    "        * Útil com dados não estacionários, onde os padrões de gradiente podem mudar ao longo do tempo. É frequentemente usado em redes neurais recorrentes (RNNs) e dados de séries temporais.\n",
    "\n",
    "    * **Adam (Adaptative Moment Estimation)**: Um dos otimizadores mais populares. Combina as ideias de momento e adaptatividade para ajustar a taxa de aprendizado de forma eficiente.\n",
    "        * Útil com grandes conjuntos de dados e redes neurais profundas e sem tempo para otimizar manualmente a taxa de aprendizado, já que o Adam ajusta as taxas de aprendizado para cada parâmetro."
   ]
  },
  {
   "cell_type": "code",
   "execution_count": 14,
   "id": "a96a1998",
   "metadata": {},
   "outputs": [],
   "source": [
    "loss_fn = nn.CrossEntropyLoss()\n",
    "optimizer = torch.optim.SGD(model.parameters(), lr=1e-3) #Learning Rate"
   ]
  },
  {
   "cell_type": "code",
   "execution_count": 15,
   "id": "6ba0d1fc",
   "metadata": {},
   "outputs": [],
   "source": [
    "def train(dataloader, model, loss_fn, optimizer):\n",
    "    size = len(dataloader.dataset)\n",
    "    model.train()\n",
    "    for batch, (X, y) in enumerate(dataloader):\n",
    "        X, y = X.to(device), y.to(device)\n",
    "\n",
    "        # Compute prediction error\n",
    "        pred = model(X)\n",
    "        loss = loss_fn(pred, y)\n",
    "\n",
    "        # Backpropagation\n",
    "        loss.backward()\n",
    "        optimizer.step()\n",
    "        optimizer.zero_grad()\n",
    "\n",
    "        if batch % 100 == 0:\n",
    "            loss, current = loss.item(), (batch + 1) * len(X)\n",
    "            print(f\"loss: {loss:>7f}  [{current:>5d}/{size:>5d}]\")"
   ]
  },
  {
   "cell_type": "code",
   "execution_count": 16,
   "id": "14c9d990",
   "metadata": {},
   "outputs": [],
   "source": [
    "def test(dataloader, model, loss_fn):\n",
    "    size = len(dataloader.dataset)\n",
    "    num_batches = len(dataloader)\n",
    "    model.eval()\n",
    "    test_loss, correct = 0, 0\n",
    "    with torch.no_grad():\n",
    "        for X, y in dataloader:\n",
    "            X, y = X.to(device), y.to(device)\n",
    "            pred = model(X)\n",
    "            test_loss += loss_fn(pred, y).item()\n",
    "            correct += (pred.argmax(1) == y).type(torch.float).sum().item()\n",
    "    test_loss /= num_batches\n",
    "    correct /= size\n",
    "    print(f\"Test Error: \\n Accuracy: {(100*correct):>0.1f}%, Avg loss: {test_loss:>8f} \\n\")"
   ]
  },
  {
   "cell_type": "code",
   "execution_count": 17,
   "id": "94f8d7e3",
   "metadata": {},
   "outputs": [
    {
     "name": "stdout",
     "output_type": "stream",
     "text": [
      "Epoch 1\n",
      "-------------------------------\n",
      "loss: 2.299670  [   64/60000]\n",
      "loss: 2.285933  [ 6464/60000]\n",
      "loss: 2.260698  [12864/60000]\n",
      "loss: 2.256478  [19264/60000]\n",
      "loss: 2.226507  [25664/60000]\n",
      "loss: 2.207043  [32064/60000]\n",
      "loss: 2.214581  [38464/60000]\n",
      "loss: 2.178691  [44864/60000]\n",
      "loss: 2.170147  [51264/60000]\n",
      "loss: 2.136353  [57664/60000]\n",
      "Test Error: \n",
      " Accuracy: 46.6%, Avg loss: 2.128926 \n",
      "\n",
      "Epoch 2\n",
      "-------------------------------\n",
      "loss: 2.141726  [   64/60000]\n",
      "loss: 2.129738  [ 6464/60000]\n",
      "loss: 2.060747  [12864/60000]\n",
      "loss: 2.080667  [19264/60000]\n",
      "loss: 2.022586  [25664/60000]\n",
      "loss: 1.965390  [32064/60000]\n",
      "loss: 1.990624  [38464/60000]\n",
      "loss: 1.906367  [44864/60000]\n",
      "loss: 1.901297  [51264/60000]\n",
      "loss: 1.835432  [57664/60000]\n",
      "Test Error: \n",
      " Accuracy: 61.3%, Avg loss: 1.829277 \n",
      "\n",
      "Epoch 3\n",
      "-------------------------------\n",
      "loss: 1.861504  [   64/60000]\n",
      "loss: 1.835541  [ 6464/60000]\n",
      "loss: 1.700261  [12864/60000]\n",
      "loss: 1.751600  [19264/60000]\n",
      "loss: 1.640512  [25664/60000]\n",
      "loss: 1.597228  [32064/60000]\n",
      "loss: 1.613587  [38464/60000]\n",
      "loss: 1.516231  [44864/60000]\n",
      "loss: 1.536177  [51264/60000]\n",
      "loss: 1.442734  [57664/60000]\n",
      "Test Error: \n",
      " Accuracy: 62.7%, Avg loss: 1.458124 \n",
      "\n",
      "Epoch 4\n",
      "-------------------------------\n",
      "loss: 1.520961  [   64/60000]\n",
      "loss: 1.497868  [ 6464/60000]\n",
      "loss: 1.332559  [12864/60000]\n",
      "loss: 1.422440  [19264/60000]\n",
      "loss: 1.302514  [25664/60000]\n",
      "loss: 1.303084  [32064/60000]\n",
      "loss: 1.319597  [38464/60000]\n",
      "loss: 1.241822  [44864/60000]\n",
      "loss: 1.276680  [51264/60000]\n",
      "loss: 1.190557  [57664/60000]\n",
      "Test Error: \n",
      " Accuracy: 64.4%, Avg loss: 1.211267 \n",
      "\n",
      "Epoch 5\n",
      "-------------------------------\n",
      "loss: 1.284710  [   64/60000]\n",
      "loss: 1.276774  [ 6464/60000]\n",
      "loss: 1.095785  [12864/60000]\n",
      "loss: 1.219273  [19264/60000]\n",
      "loss: 1.093253  [25664/60000]\n",
      "loss: 1.119067  [32064/60000]\n",
      "loss: 1.146242  [38464/60000]\n",
      "loss: 1.076236  [44864/60000]\n",
      "loss: 1.116575  [51264/60000]\n",
      "loss: 1.046574  [57664/60000]\n",
      "Test Error: \n",
      " Accuracy: 65.5%, Avg loss: 1.060488 \n",
      "\n",
      "Done!\n"
     ]
    }
   ],
   "source": [
    "epochs = 5\n",
    "for t in range(epochs):\n",
    "    print(f\"Epoch {t+1}\\n-------------------------------\")\n",
    "    train(train_dataloader, model, loss_fn, optimizer)\n",
    "    test(test_dataloader, model, loss_fn)\n",
    "print(\"Done!\")"
   ]
  },
  {
   "cell_type": "markdown",
   "id": "c5522c23",
   "metadata": {},
   "source": [
    "# Salvando Modelos\n",
    "\n",
    "Serializa o estado interno do modelo"
   ]
  },
  {
   "cell_type": "code",
   "execution_count": 18,
   "id": "f6f39482",
   "metadata": {},
   "outputs": [
    {
     "name": "stdout",
     "output_type": "stream",
     "text": [
      "Saved PyTorch Model State to model.pth\n"
     ]
    }
   ],
   "source": [
    "torch.save(model.state_dict(), \"model.pth\")\n",
    "print(\"Saved PyTorch Model State to model.pth\")"
   ]
  },
  {
   "cell_type": "markdown",
   "id": "c8e4ce38",
   "metadata": {},
   "source": [
    "# Carregando Modelos\n",
    "\n",
    "Recria a estrutura do modelo"
   ]
  },
  {
   "cell_type": "code",
   "execution_count": 19,
   "id": "8e2df2a5",
   "metadata": {},
   "outputs": [
    {
     "name": "stdout",
     "output_type": "stream",
     "text": [
      "Predicted: \"Ankle boot\", Actual: \"Ankle boot\"\n"
     ]
    }
   ],
   "source": [
    "classes = [\n",
    "    \"T-shirt/top\",\n",
    "    \"Trouser\",\n",
    "    \"Pullover\",\n",
    "    \"Dress\",\n",
    "    \"Coat\",\n",
    "    \"Sandal\",\n",
    "    \"Shirt\",\n",
    "    \"Sneaker\",\n",
    "    \"Bag\",\n",
    "    \"Ankle boot\",\n",
    "]\n",
    "\n",
    "model.eval()\n",
    "x, y = test_data[0][0], test_data[0][1]\n",
    "with torch.no_grad():\n",
    "    x = x.to(device)\n",
    "    pred = model(x)\n",
    "    predicted, actual = classes[pred[0].argmax(0)], classes[y]\n",
    "    print(f'Predicted: \"{predicted}\", Actual: \"{actual}\"')"
   ]
  },
  {
   "cell_type": "markdown",
   "id": "fe83bccb",
   "metadata": {},
   "source": [
    "# Visualizando Imagem"
   ]
  },
  {
   "cell_type": "code",
   "execution_count": 20,
   "id": "3dd81500",
   "metadata": {},
   "outputs": [
    {
     "data": {
      "image/png": "[encoded data removed]",
      "text/plain": [
       "<Figure size 640x480 with 1 Axes>"
      ]
     },
     "metadata": {},
     "output_type": "display_data"
    },
    {
     "name": "stdout",
     "output_type": "stream",
     "text": [
      "Formato da imagem: torch.Size([1, 28, 28])\n",
      "Rótulo: 9\n"
     ]
    }
   ],
   "source": [
    "import matplotlib.pyplot as plt\n",
    "\n",
    "class_names = training_data.classes\n",
    "image, label = test_data[0]\n",
    "\n",
    "# O tensor da imagem precisa ter a dimensão extra do canal de cor removida\n",
    "# Antes de ser exibida com matplotlib\n",
    "# A função .squeeze() faz isso\n",
    "image_to_show = image.squeeze()\n",
    "\n",
    "# Plotar a imagem\n",
    "plt.imshow(image_to_show, cmap=\"gray\")\n",
    "plt.title(f\"Label: {class_names[label]}\")\n",
    "plt.show()\n",
    "\n",
    "# Imprimir o formato do tensor\n",
    "print(f\"Formato da imagem: {image.shape}\")\n",
    "print(f\"Rótulo: {label}\")"
   ]
  }
 ],
 "metadata": {
  "kernelspec": {
   "display_name": "Python 3",
   "language": "python",
   "name": "python3"
  },
  "language_info": {
   "codemirror_mode": {
    "name": "ipython",
    "version": 3
   },
   "file_extension": ".py",
   "mimetype": "text/x-python",
   "name": "python",
   "nbconvert_exporter": "python",
   "pygments_lexer": "ipython3",
   "version": "3.12.10"
  }
 },
 "nbformat": 4,
 "nbformat_minor": 5
}
