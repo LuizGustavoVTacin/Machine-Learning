{
 "cells": [
  {
   "cell_type": "markdown",
   "id": "efc5ab56",
   "metadata": {},
   "source": [
    "# Tópicos\n",
    "\n",
    "1. Otimizando Parâmetros do Modelo"
   ]
  },
  {
   "cell_type": "markdown",
   "id": "cb7ac115",
   "metadata": {},
   "source": [
    "# Otimizando Parâmetros do Modelo\n",
    "\n",
    "Treinar um modelo é processo iterativo. Em cada iteração, o modelo faz uma predição das saídas. calcula o erro da predição (loss), coleta as derivadas do erro com os respectivos parâmetros e **otimizar** este parâmetros usando gradiente descendente.\n",
    "\n",
    "Considerando o modelo:"
   ]
  },
  {
   "cell_type": "code",
   "execution_count": 9,
   "id": "e2ab3890",
   "metadata": {},
   "outputs": [],
   "source": [
    "import torch\n",
    "from torch import nn\n",
    "from torch.utils.data import DataLoader\n",
    "from torchvision import datasets\n",
    "from torchvision.transforms import ToTensor\n",
    "\n",
    "training_data = datasets.FashionMNIST(\n",
    "    root=\"data\",\n",
    "    train=True,\n",
    "    download=True,\n",
    "    transform=ToTensor()\n",
    ")\n",
    "\n",
    "test_data = datasets.FashionMNIST(\n",
    "    root=\"data\",\n",
    "    train=False,\n",
    "    download=True,\n",
    "    transform=ToTensor()\n",
    ")\n",
    "\n",
    "train_dataloader = DataLoader(training_data, batch_size=64)\n",
    "test_dataloader = DataLoader(test_data, batch_size=64)\n",
    "\n",
    "class NeuralNetwork(nn.Module):\n",
    "    def __init__(self):\n",
    "        super().__init__()\n",
    "        self.flatten = nn.Flatten()\n",
    "        self.linear_relu_stack = nn.Sequential(\n",
    "            nn.Linear(28*28, 512),\n",
    "            nn.ReLU(),\n",
    "            nn.Linear(512, 512),\n",
    "            nn.ReLU(),\n",
    "            nn.Linear(512, 10),\n",
    "        )\n",
    "\n",
    "    def forward(self, x):\n",
    "        x = self.flatten(x)\n",
    "        logits = self.linear_relu_stack(x)\n",
    "        return logits\n",
    "\n",
    "model = NeuralNetwork()"
   ]
  },
  {
   "cell_type": "markdown",
   "id": "60ee0b42",
   "metadata": {},
   "source": [
    "# Hiperparâmetros\n",
    "\n",
    "Hiperparâmetros são parâmetros ajustáveis que permite o controle do processo de otimização do modelo. Valores diferentes de hiperparâmetros podem impactar e razção de convergência. [Hyperparameter tuning](https://pytorch.org/tutorials/beginner/hyperparameter_tuning_tutorial.html).\n",
    "\n",
    "Os hiperparâmetros para treinamento são:\n",
    "\n",
    "* **Número de épocas**: Número de vezes para iterar sobre o dataset\n",
    "* **Tamanho do batch**: Numero de amostras propadas através da rede antes da atualização dos parâmetros\n",
    "* **Razão de Aprendizado**: Quanto atualizar os parâmetros dos modelos a cada batch e época. Valores menores reduzem velocidade de aprendizado, enquanto valores grandes podem resultar em compartamento inprevísivel durante treinamento."
   ]
  },
  {
   "cell_type": "code",
   "execution_count": 10,
   "id": "14c973b8",
   "metadata": {},
   "outputs": [],
   "source": [
    "lr = 1e-3\n",
    "batch_size = 64\n",
    "epochs = 5"
   ]
  },
  {
   "cell_type": "markdown",
   "id": "b433c067",
   "metadata": {},
   "source": [
    "# Laço de otimização\n",
    "\n",
    "Uma vez definidos os hiperparâmetros, o modelo pode ser treinado e otimizado com um laço de otimização. Cada iteração do laço é chamado de época.\n",
    "\n",
    "Cada época consiste de duas partes principais:\n",
    "\n",
    "* **Laço principal**: Itera sobre o dataset de treinamento e tenta convergir para otimizar parâmetros\n",
    "* **Laço de teste e validação**: Itera sobre o dataset para verificar se a performance do modelo está melhorando.\n",
    "\n",
    "# Função de perda\n",
    "\n",
    "Quando os dados de treinos são introduzidos ao modelo, a rede não treinada não dará a resposta certa. A função de perda mede o grau de dissimilaridade entre o resultado obtido e o valor esperado. [Funções de perda](https://pytorch.org/docs/stable/nn.html#loss-functions)."
   ]
  },
  {
   "cell_type": "code",
   "execution_count": 11,
   "id": "1e4dbaa5",
   "metadata": {},
   "outputs": [],
   "source": [
    "# Initialize the loss function\n",
    "loss_fn = nn.CrossEntropyLoss()"
   ]
  },
  {
   "cell_type": "markdown",
   "id": "a032a4dd",
   "metadata": {},
   "source": [
    "# Otimizador\n",
    "\n",
    "Otimização é o processo de ajustar os parâmetros do modelo para reduzir o erro em cada passo do treinamento. \n",
    "\n",
    "**Algoritmos de Otimização** define como este processo é feito. Toda lógica de otimização é encapsulado no objeto ```otimizer```. [Outros otimizadores](https://pytorch.org/docs/stable/optim.html)"
   ]
  },
  {
   "cell_type": "code",
   "execution_count": 12,
   "id": "81ac7c41",
   "metadata": {},
   "outputs": [],
   "source": [
    "optimizer = torch.optim.SGD(model.parameters(), lr=lr)"
   ]
  },
  {
   "cell_type": "markdown",
   "id": "e74fa1c0",
   "metadata": {},
   "source": [
    "Dentro de um laço de treinamento, a otimização ocorre em 3 etapas:\n",
    "\n",
    "* Chama ```optimizer.zero_grad()``` para resetar os gradientes dos parâmetros do modelo.\n",
    "* A perda predita é propagada para trás (backpropagation) com ```loss.backward()```.\n",
    "* Com os gradientes, usa-se ```optimizer.step()``` para ajustar os parâmetros pela coleta dos gradientes.\n",
    "\n",
    "\n",
    "[Hyperparameter tuning with Ray Tune](https://docs.pytorch.org/tutorials/beginner/hyperparameter_tuning_tutorial.html)"
   ]
  }
 ],
 "metadata": {
  "kernelspec": {
   "display_name": "Python 3",
   "language": "python",
   "name": "python3"
  },
  "language_info": {
   "codemirror_mode": {
    "name": "ipython",
    "version": 3
   },
   "file_extension": ".py",
   "mimetype": "text/x-python",
   "name": "python",
   "nbconvert_exporter": "python",
   "pygments_lexer": "ipython3",
   "version": "3.12.10"
  }
 },
 "nbformat": 4,
 "nbformat_minor": 5
}
