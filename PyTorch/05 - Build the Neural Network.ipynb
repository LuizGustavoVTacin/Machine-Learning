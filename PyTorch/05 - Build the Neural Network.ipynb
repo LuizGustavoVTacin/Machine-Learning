{
 "cells": [
  {
   "cell_type": "markdown",
   "id": "80aaa8f6",
   "metadata": {},
   "source": [
    "# Tópicos\n",
    "\n",
    "1. Build the Neural Network\n",
    "\n",
    "2. Get Device for Training\n",
    "\n",
    "3. Definição da Classe ```nn.Module```\n",
    "\n",
    "4. Camadas do Modelo\n",
    "    * nn.Flatten\n",
    "    * nn.Linear5\n",
    "    * nn.ReLU\n",
    "    * nn.Sequantial\n",
    "    * nn.Softmax\n",
    "\n",
    "5. Parâmetros do Modelo\n",
    "\n",
    "# Build the Neural Network\n",
    "\n",
    "Redes Neurais incluem camadas e módulos que realizam operações em dados.\n",
    "\n",
    "O módulo [torch.nn](https://pytorch.org/docs/stable/nn.html) fornece as funções necessárias para contribuir uma rede neural. Todo módulo do PyTorch é uma subclasse do [nn.Module](https://pytorch.org/docs/stable/generated/torch.nn.Module.html). Uma rede neural é um módulo que consiste de outros módulos (camadas)."
   ]
  },
  {
   "cell_type": "code",
   "execution_count": 1,
   "id": "8419742d",
   "metadata": {},
   "outputs": [],
   "source": [
    "import os\n",
    "import torch\n",
    "from torch import nn\n",
    "from torch.utils.data import DataLoader\n",
    "from torchvision import datasets, transforms"
   ]
  },
  {
   "cell_type": "markdown",
   "id": "a99a8920",
   "metadata": {},
   "source": [
    "# Get Device for Training\n",
    "\n",
    "O treinamento deve ser realizado preferencialmente de forma acelerada (CUDA, MPS, MTIA ou XPS)."
   ]
  },
  {
   "cell_type": "code",
   "execution_count": 2,
   "id": "8266ece9",
   "metadata": {},
   "outputs": [
    {
     "name": "stdout",
     "output_type": "stream",
     "text": [
      "Using cuda device\n"
     ]
    }
   ],
   "source": [
    "device = torch.accelerator.current_accelerator().type if torch.accelerator.is_available() else \"cpu\"\n",
    "print(f\"Using {device} device\")"
   ]
  },
  {
   "cell_type": "markdown",
   "id": "549faa97",
   "metadata": {},
   "source": [
    "# Definição da classe nn.Module\n",
    "\n",
    "A definição da rede neural através da subclasse ```nn.Module``` inicializa as camadas da rede neural no ```__init__```. Toda subclasse de ```nn.Module``` implementa operações nos dados de entrada com o método ```forward```."
   ]
  },
  {
   "cell_type": "code",
   "execution_count": 3,
   "id": "ddd024eb",
   "metadata": {},
   "outputs": [],
   "source": [
    "class NeuralNetwork(nn.Module):\n",
    "    def __init__(self):\n",
    "        super().__init__()\n",
    "        self.flatten = nn.Flatten()\n",
    "        self.linear_relu_stack = nn.Sequential(\n",
    "            nn.Linear(28*28, 512),\n",
    "            nn.ReLU(),\n",
    "            nn.Linear(512, 512),\n",
    "            nn.ReLU(),\n",
    "            nn.Linear(512, 10),\n",
    "        )\n",
    "\n",
    "    def forward(self, x):\n",
    "        x = self.flatten(x)\n",
    "        logits = self.linear_relu_stack(x)\n",
    "        return logits"
   ]
  },
  {
   "cell_type": "markdown",
   "id": "00ecc9fb",
   "metadata": {},
   "source": [
    "Para problemas complexos, os quais não podem ser resolvidos por regressão linear, há necessidade de introdução de não linearidades. Por este motivo, deve-se utilizar uma função de ativação após cada transformação linear.\n",
    "\n",
    "Se a função de ativação for aplicada somente ao final, as camdas ocultas serão desnecessariamente utilizadas, devido a possibilidade de reduzir várias aplicações de funções lineares em um única.\n",
    "\n",
    "Uma instância de ```NeuralNetwork``` pode ser criada e movida para o ```device```. A estrutura pode ser exibida."
   ]
  },
  {
   "cell_type": "code",
   "execution_count": 4,
   "id": "32206358",
   "metadata": {},
   "outputs": [
    {
     "name": "stdout",
     "output_type": "stream",
     "text": [
      "NeuralNetwork(\n",
      "  (flatten): Flatten(start_dim=1, end_dim=-1)\n",
      "  (linear_relu_stack): Sequential(\n",
      "    (0): Linear(in_features=784, out_features=512, bias=True)\n",
      "    (1): ReLU()\n",
      "    (2): Linear(in_features=512, out_features=512, bias=True)\n",
      "    (3): ReLU()\n",
      "    (4): Linear(in_features=512, out_features=10, bias=True)\n",
      "  )\n",
      ")\n"
     ]
    }
   ],
   "source": [
    "model = NeuralNetwork().to(device)\n",
    "print(model)"
   ]
  },
  {
   "cell_type": "markdown",
   "id": "3b9da6d3",
   "metadata": {},
   "source": [
    "Para usar o modelo, os dados de entradas serõa inseridos. Isto executará o ```forward```, junto de operações auxiliares. [Background Operations](https://github.com/pytorch/pytorch/blob/270111b7b611d174967ed204776985cefca9c144/torch/nn/modules/module.py#L866).\n",
    "\n",
    "Chamar o modelo na entrada retornará um tensor de 2 dimensões, correspondentes a cada um dos 10 tipos de saída com os valroes de predição de cada classe.\n",
    "\n",
    "O valor de predição será obtido por ```nn.Softmax```."
   ]
  },
  {
   "cell_type": "code",
   "execution_count": 5,
   "id": "44e4014a",
   "metadata": {},
   "outputs": [
    {
     "name": "stdout",
     "output_type": "stream",
     "text": [
      "Predicted class: tensor([8], device='cuda:0')\n"
     ]
    }
   ],
   "source": [
    "X = torch.rand(1, 28, 28, device=device)\n",
    "logits = model(X)\n",
    "pred_probab = nn.Softmax(dim=1)(logits)\n",
    "y_pred = pred_probab.argmax(1)\n",
    "print(f\"Predicted class: {y_pred}\")"
   ]
  },
  {
   "cell_type": "markdown",
   "id": "f4349dd7",
   "metadata": {},
   "source": [
    "# Camadas do Modelo\n",
    "\n",
    "Exemplo FashionMNIST"
   ]
  },
  {
   "cell_type": "code",
   "execution_count": 6,
   "id": "2cedcde7",
   "metadata": {},
   "outputs": [
    {
     "name": "stdout",
     "output_type": "stream",
     "text": [
      "torch.Size([3, 28, 28])\n"
     ]
    }
   ],
   "source": [
    "input_image = torch.rand(3,28,28)\n",
    "print(input_image.size())"
   ]
  },
  {
   "cell_type": "markdown",
   "id": "4e453f8f",
   "metadata": {},
   "source": [
    "#### nn.Flatten\n",
    "\n",
    "Inicializar o [nn.Flatten](https://pytorch.org/docs/stable/generated/torch.nn.Flatten.html) converte cada imagem 2D (28x28) em um vetor de pixels de tamanho 784."
   ]
  },
  {
   "cell_type": "code",
   "execution_count": 7,
   "id": "d6201f4e",
   "metadata": {},
   "outputs": [
    {
     "name": "stdout",
     "output_type": "stream",
     "text": [
      "torch.Size([3, 784])\n"
     ]
    }
   ],
   "source": [
    "flatten = nn.Flatten()\n",
    "flat_image = flatten(input_image)\n",
    "print(flat_image.size())"
   ]
  },
  {
   "cell_type": "markdown",
   "id": "7fb10a20",
   "metadata": {},
   "source": [
    "#### nn.Linear\n",
    "\n",
    "A camada [nn.Linear](https://pytorch.org/docs/stable/generated/torch.nn.Linear.html) aplica a transformação linear de pesos e limiares nos dados de entrada"
   ]
  },
  {
   "cell_type": "code",
   "execution_count": 8,
   "id": "391ddb8a",
   "metadata": {},
   "outputs": [
    {
     "name": "stdout",
     "output_type": "stream",
     "text": [
      "torch.Size([3, 20])\n"
     ]
    }
   ],
   "source": [
    "layer1 = nn.Linear(in_features=28*28, out_features=20)\n",
    "hidden1 = layer1(flat_image)\n",
    "print(hidden1.size())"
   ]
  },
  {
   "cell_type": "markdown",
   "id": "a66f9375",
   "metadata": {},
   "source": [
    "#### nn.ReLU\n",
    "\n",
    "Ativações não lineares são mapas complexos entre as entradas e saídas. Elas são aplicadas após uma transformação linear para introduzir não linearidades."
   ]
  },
  {
   "cell_type": "code",
   "execution_count": 9,
   "id": "2a453e0f",
   "metadata": {},
   "outputs": [
    {
     "name": "stdout",
     "output_type": "stream",
     "text": [
      "Before ReLU: tensor([[-0.4095,  0.0224, -0.4912, -0.1153, -0.2502, -0.3839, -0.2982,  0.0884,\n",
      "         -0.3399,  0.3616,  0.4145, -0.0483,  0.0333, -0.0562, -0.3786, -0.0926,\n",
      "         -0.1248, -0.6659, -0.0558,  0.4460],\n",
      "        [-0.2827, -0.5175, -0.3282, -0.2706, -0.1217, -0.2572, -0.4950, -0.1868,\n",
      "         -0.3092,  0.3189,  0.2988,  0.0385, -0.2925,  0.1394, -0.1160, -0.2565,\n",
      "          0.4079, -0.4372,  0.3396,  0.2350],\n",
      "        [-0.3873, -0.3934, -0.1815, -0.3436, -0.2814, -0.3822, -0.4340,  0.0370,\n",
      "         -0.0795,  0.3878,  0.4614,  0.1842,  0.0146,  0.4319, -0.2141, -0.1272,\n",
      "         -0.0272, -0.7625,  0.5143,  0.3402]], grad_fn=<AddmmBackward0>)\n",
      "\n",
      "\n",
      "After ReLU: tensor([[0.0000, 0.0224, 0.0000, 0.0000, 0.0000, 0.0000, 0.0000, 0.0884, 0.0000,\n",
      "         0.3616, 0.4145, 0.0000, 0.0333, 0.0000, 0.0000, 0.0000, 0.0000, 0.0000,\n",
      "         0.0000, 0.4460],\n",
      "        [0.0000, 0.0000, 0.0000, 0.0000, 0.0000, 0.0000, 0.0000, 0.0000, 0.0000,\n",
      "         0.3189, 0.2988, 0.0385, 0.0000, 0.1394, 0.0000, 0.0000, 0.4079, 0.0000,\n",
      "         0.3396, 0.2350],\n",
      "        [0.0000, 0.0000, 0.0000, 0.0000, 0.0000, 0.0000, 0.0000, 0.0370, 0.0000,\n",
      "         0.3878, 0.4614, 0.1842, 0.0146, 0.4319, 0.0000, 0.0000, 0.0000, 0.0000,\n",
      "         0.5143, 0.3402]], grad_fn=<ReluBackward0>)\n"
     ]
    }
   ],
   "source": [
    "print(f\"Before ReLU: {hidden1}\\n\\n\")\n",
    "hidden1 = nn.ReLU()(hidden1)\n",
    "print(f\"After ReLU: {hidden1}\")"
   ]
  },
  {
   "cell_type": "markdown",
   "id": "598606cc",
   "metadata": {},
   "source": [
    "#### nn.Sequential\n",
    "\n",
    "[nn.Sequential](https://pytorch.org/docs/stable/generated/torch.nn.Sequential.html) contém módulos de ordenação. Os dados são passados por todos módulos na mesma ordem como definido."
   ]
  },
  {
   "cell_type": "code",
   "execution_count": 10,
   "id": "be3238b2",
   "metadata": {},
   "outputs": [],
   "source": [
    "seq_modules = nn.Sequential(\n",
    "    flatten,\n",
    "    layer1,\n",
    "    nn.ReLU(),\n",
    "    nn.Linear(20, 10)\n",
    ")\n",
    "input_image = torch.rand(3,28,28)\n",
    "logits = seq_modules(input_image)"
   ]
  },
  {
   "cell_type": "markdown",
   "id": "78c3cbc9",
   "metadata": {},
   "source": [
    "#### nn.Softmax\n",
    "\n",
    "A última camada linear de uma rede neural retorna *logits* entre [-infty, infty] que são passadas pela [nn.Softmax](https://pytorch.org/docs/stable/generated/torch.nn.Softmax.html). Os *logits* são escalados entre [0, 1] representando o modelo de predição probabilística do modelo para cada classe."
   ]
  },
  {
   "cell_type": "code",
   "execution_count": 11,
   "id": "b6068a2a",
   "metadata": {},
   "outputs": [],
   "source": [
    "softmax = nn.Softmax(dim=1)\n",
    "pred_probab = softmax(logits)"
   ]
  },
  {
   "cell_type": "markdown",
   "id": "2e71d3d4",
   "metadata": {},
   "source": [
    "# Parâmetros do Modelo\n",
    "\n",
    "Muitas camadas dentro de uma rede neural são parametrizadas (ajustados durante treinamento). A criação de uma subclasse de ```nn.Module``` e mapeam todos campos dentro de um modelo e tornam esse parâmetros acessíveis com ```parameters()``` ou ```named_parameters()```."
   ]
  },
  {
   "cell_type": "code",
   "execution_count": 12,
   "id": "22a54567",
   "metadata": {},
   "outputs": [
    {
     "name": "stdout",
     "output_type": "stream",
     "text": [
      "Model structure: NeuralNetwork(\n",
      "  (flatten): Flatten(start_dim=1, end_dim=-1)\n",
      "  (linear_relu_stack): Sequential(\n",
      "    (0): Linear(in_features=784, out_features=512, bias=True)\n",
      "    (1): ReLU()\n",
      "    (2): Linear(in_features=512, out_features=512, bias=True)\n",
      "    (3): ReLU()\n",
      "    (4): Linear(in_features=512, out_features=10, bias=True)\n",
      "  )\n",
      ")\n",
      "\n",
      "\n",
      "Layer: linear_relu_stack.0.weight | Size: torch.Size([512, 784]) | Values : tensor([[ 0.0161,  0.0299,  0.0294,  ..., -0.0190,  0.0181, -0.0166],\n",
      "        [ 0.0012,  0.0192,  0.0062,  ..., -0.0038,  0.0150,  0.0342]],\n",
      "       device='cuda:0', grad_fn=<SliceBackward0>) \n",
      "\n",
      "Layer: linear_relu_stack.0.bias | Size: torch.Size([512]) | Values : tensor([-0.0138, -0.0087], device='cuda:0', grad_fn=<SliceBackward0>) \n",
      "\n",
      "Layer: linear_relu_stack.2.weight | Size: torch.Size([512, 512]) | Values : tensor([[ 0.0318, -0.0034,  0.0185,  ..., -0.0384, -0.0209, -0.0331],\n",
      "        [-0.0434, -0.0026,  0.0072,  ..., -0.0041,  0.0341,  0.0007]],\n",
      "       device='cuda:0', grad_fn=<SliceBackward0>) \n",
      "\n",
      "Layer: linear_relu_stack.2.bias | Size: torch.Size([512]) | Values : tensor([-0.0194, -0.0210], device='cuda:0', grad_fn=<SliceBackward0>) \n",
      "\n",
      "Layer: linear_relu_stack.4.weight | Size: torch.Size([10, 512]) | Values : tensor([[ 0.0303, -0.0281,  0.0311,  ..., -0.0301,  0.0041,  0.0107],\n",
      "        [ 0.0093,  0.0345, -0.0126,  ...,  0.0256, -0.0337,  0.0329]],\n",
      "       device='cuda:0', grad_fn=<SliceBackward0>) \n",
      "\n",
      "Layer: linear_relu_stack.4.bias | Size: torch.Size([10]) | Values : tensor([0.0177, 0.0438], device='cuda:0', grad_fn=<SliceBackward0>) \n",
      "\n"
     ]
    }
   ],
   "source": [
    "print(f\"Model structure: {model}\\n\\n\")\n",
    "\n",
    "for name, param in model.named_parameters():\n",
    "    print(f\"Layer: {name} | Size: {param.size()} | Values : {param[:2]} \\n\")"
   ]
  }
 ],
 "metadata": {
  "kernelspec": {
   "display_name": "Python 3",
   "language": "python",
   "name": "python3"
  },
  "language_info": {
   "codemirror_mode": {
    "name": "ipython",
    "version": 3
   },
   "file_extension": ".py",
   "mimetype": "text/x-python",
   "name": "python",
   "nbconvert_exporter": "python",
   "pygments_lexer": "ipython3",
   "version": "3.12.10"
  }
 },
 "nbformat": 4,
 "nbformat_minor": 5
}
