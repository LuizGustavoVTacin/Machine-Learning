{
 "cells": [
  {
   "cell_type": "markdown",
   "id": "1a11bf81",
   "metadata": {},
   "source": [
    "# Tópicos\n",
    "\n",
    "1. Transformações\n",
    "\n",
    "2. ```ToTensor()```\n",
    "\n",
    "3. Transformações Lambda\n",
    "\n",
    "# Transformações\n",
    "\n",
    "Dados nem sempre vem processados de forma que os algoritmos de machine learning requerem.\n",
    "\n",
    "Transformações são realizadas manipulações de dados e torna os dados utilizáveis para treinamento.\n",
    "\n",
    "Todos datasets de TorchVision tem dois parâmetros: ```transform``` para modificar as features e ```target_transform``` para modificar labels.\n",
    "\n",
    "[torchvision.transforms](https://pytorch.org/vision/stable/transforms.html)\n",
    "\n",
    "AS features do FashionMNIST estão em formato PIL de imagem e os labels são inteiros. Para treinamento, as features devem ser tensores normalizados e as labels one-hot-encoded. Para fazer estas transformações, use-se ```ToTensor()```e ```Lambda```."
   ]
  },
  {
   "cell_type": "code",
   "execution_count": 1,
   "id": "335312ad",
   "metadata": {},
   "outputs": [],
   "source": [
    "import torch\n",
    "from torchvision import datasets\n",
    "from torchvision.transforms import ToTensor, Lambda\n",
    "\n",
    "ds = datasets.FashionMNIST(\n",
    "    root=\"data\",\n",
    "    train=True,\n",
    "    download=False,\n",
    "    transform=ToTensor(),\n",
    "    target_transform=Lambda(lambda y: torch.zeros(10, dtype=torch.float).scatter_(0, torch.tensor(y), value=1))\n",
    ")"
   ]
  },
  {
   "cell_type": "markdown",
   "id": "f1f195ec",
   "metadata": {},
   "source": [
    "# Lambda\n",
    "\n",
    "Funções Lambda aplicam qualquer função lambda"
   ]
  },
  {
   "cell_type": "code",
   "execution_count": 2,
   "id": "db0bfcbe",
   "metadata": {},
   "outputs": [],
   "source": [
    "target_transform = Lambda(lambda y: torch.zeros(\n",
    "    10, dtype=torch.float).scatter_(dim=0, index=torch.tensor(y), value= 1))"
   ]
  }
 ],
 "metadata": {
  "kernelspec": {
   "display_name": "Python 3",
   "language": "python",
   "name": "python3"
  },
  "language_info": {
   "codemirror_mode": {
    "name": "ipython",
    "version": 3
   },
   "file_extension": ".py",
   "mimetype": "text/x-python",
   "name": "python",
   "nbconvert_exporter": "python",
   "pygments_lexer": "ipython3",
   "version": "3.12.10"
  }
 },
 "nbformat": 4,
 "nbformat_minor": 5
}
