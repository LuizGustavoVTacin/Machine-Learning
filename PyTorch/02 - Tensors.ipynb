{
 "cells": [
  {
   "cell_type": "markdown",
   "id": "26466cb2",
   "metadata": {},
   "source": [
    "# Tópicos\n",
    "\n",
    "1. Tensores\n",
    "\n",
    "2. Iniciando Tensores\n",
    "    * Direto de Dados\n",
    "    * De um ```np.array```\n",
    "    * De outro Tensor\n",
    "    * De valores aleatórios ou constantes\n",
    "\n",
    "3. Operações com Tensores\n",
    "    * Indexing and Slicing\n",
    "    * Concatenating\n",
    "    * Operações aritméticas\n",
    "    * Tensores de elemento único\n",
    "    * Operações diretas\n",
    "\n",
    "4. Compatibilidade com Numpy\n",
    "    * ```np.array``` para Tensor"
   ]
  },
  {
   "cell_type": "markdown",
   "id": "075396f8",
   "metadata": {},
   "source": [
    "# Tensores\n",
    "\n",
    "Tensores são estruturas de dados semelhantes a vetores e matrizes. No PyTorch, os tensores são usadas para codificar entradas e saídas de um modelo e parâmetros.\n",
    "\n",
    "Tensores são semelhantes ao ```np.array```, com a diferenla de que podem ser acelerados por GPU"
   ]
  },
  {
   "cell_type": "code",
   "execution_count": 75,
   "id": "14e8aace",
   "metadata": {},
   "outputs": [],
   "source": [
    "import torch\n",
    "import numpy as np"
   ]
  },
  {
   "cell_type": "markdown",
   "id": "39268efb",
   "metadata": {},
   "source": [
    "# Iniciando Tensores\n",
    "\n",
    "Tensores podem ser iniciados de diversas formas\n",
    "\n",
    "Exemplos:\n",
    "\n",
    "#### Direto de Dados"
   ]
  },
  {
   "cell_type": "code",
   "execution_count": 76,
   "id": "a9d9efc6",
   "metadata": {},
   "outputs": [
    {
     "data": {
      "text/plain": [
       "tensor([[1, 2],\n",
       "        [3, 4]])"
      ]
     },
     "execution_count": 76,
     "metadata": {},
     "output_type": "execute_result"
    }
   ],
   "source": [
    "data = [[1, 2],[3, 4]]\n",
    "x_data = torch.tensor(data)\n",
    "x_data"
   ]
  },
  {
   "cell_type": "markdown",
   "id": "5b50c74c",
   "metadata": {},
   "source": [
    "#### De um ```np.array```"
   ]
  },
  {
   "cell_type": "code",
   "execution_count": 77,
   "id": "2af559f3",
   "metadata": {},
   "outputs": [
    {
     "data": {
      "text/plain": [
       "tensor([[1, 2],\n",
       "        [3, 4]])"
      ]
     },
     "execution_count": 77,
     "metadata": {},
     "output_type": "execute_result"
    }
   ],
   "source": [
    "np_array = np.array(data)\n",
    "x_np = torch.from_numpy(np_array)\n",
    "x_np"
   ]
  },
  {
   "cell_type": "markdown",
   "id": "4f6be261",
   "metadata": {},
   "source": [
    "#### De outro Tensor"
   ]
  },
  {
   "cell_type": "code",
   "execution_count": 78,
   "id": "bbbe75b8",
   "metadata": {},
   "outputs": [
    {
     "name": "stdout",
     "output_type": "stream",
     "text": [
      "Ones Tensor: \n",
      " tensor([[1, 1],\n",
      "        [1, 1]]) \n",
      "\n",
      "Random Tensor: \n",
      " tensor([[0.0660, 0.5413],\n",
      "        [0.0829, 0.8158]]) \n",
      "\n"
     ]
    }
   ],
   "source": [
    "x_ones = torch.ones_like(x_data) # retains the properties of x_data\n",
    "print(f\"Ones Tensor: \\n {x_ones} \\n\")\n",
    "\n",
    "x_rand = torch.rand_like(x_data, dtype=torch.float) # overrides the datatype of x_data\n",
    "print(f\"Random Tensor: \\n {x_rand} \\n\")"
   ]
  },
  {
   "cell_type": "markdown",
   "id": "06c2e12d",
   "metadata": {},
   "source": [
    "#### De valores aleatórios ou constantes"
   ]
  },
  {
   "cell_type": "code",
   "execution_count": 79,
   "id": "5c4a32c8",
   "metadata": {},
   "outputs": [
    {
     "name": "stdout",
     "output_type": "stream",
     "text": [
      "Random Tensor: \n",
      " tensor([[0.8445, 0.6752, 0.4450],\n",
      "        [0.1381, 0.1997, 0.8533]]) \n",
      "\n",
      "Ones Tensor: \n",
      " tensor([[1., 1., 1.],\n",
      "        [1., 1., 1.]]) \n",
      "\n",
      "Zeros Tensor: \n",
      " tensor([[0., 0., 0.],\n",
      "        [0., 0., 0.]])\n"
     ]
    }
   ],
   "source": [
    "shape = (2,3,)\n",
    "rand_tensor = torch.rand(shape)\n",
    "ones_tensor = torch.ones(shape)\n",
    "zeros_tensor = torch.zeros(shape)\n",
    "\n",
    "print(f\"Random Tensor: \\n {rand_tensor} \\n\")\n",
    "print(f\"Ones Tensor: \\n {ones_tensor} \\n\")\n",
    "print(f\"Zeros Tensor: \\n {zeros_tensor}\")"
   ]
  },
  {
   "cell_type": "markdown",
   "id": "ad9df544",
   "metadata": {},
   "source": [
    "# Operações com Tensores\n",
    "\n",
    "Há mais de 1200 operações, incluindo aritmética, álgebra linear, manipulação de matrizes (transposição, index, slicing), amostragem e outras. [Mais operações](https://pytorch.org/docs/stable/torch.html)\n",
    "\n",
    "Cada operação pode ser executada em GPU e acelerada com CUDA, MPS, MTIA ou XPU.\n",
    "\n",
    "Por padrão, tensores são criados na CPU. Porém, recursos de aceleração podem ser alocados, como abaixo:"
   ]
  },
  {
   "cell_type": "code",
   "execution_count": 80,
   "id": "ec81d634",
   "metadata": {},
   "outputs": [
    {
     "name": "stdout",
     "output_type": "stream",
     "text": [
      "cuda:0\n",
      "NVIDIA GeForce RTX 4060 Ti\n",
      "0\n",
      "1\n"
     ]
    }
   ],
   "source": [
    "device = torch.device(\"cuda\" if torch.cuda.is_available() else \"cpu\")\n",
    "x_data = x_data.to(\"cuda\")\n",
    "\n",
    "print(x_data.device)\n",
    "print(torch.cuda.get_device_name(0))\n",
    "print(torch.cuda.current_device())\n",
    "print(torch.cuda.device_count())"
   ]
  },
  {
   "cell_type": "markdown",
   "id": "b1f3c218",
   "metadata": {},
   "source": [
    "#### Indexing and Slicing"
   ]
  },
  {
   "cell_type": "code",
   "execution_count": 81,
   "id": "c5104da0",
   "metadata": {},
   "outputs": [
    {
     "name": "stdout",
     "output_type": "stream",
     "text": [
      "First row: tensor([1., 1., 1., 1.])\n",
      "First column: tensor([1., 1., 1., 1.])\n",
      "Last column: tensor([1., 1., 1., 1.])\n",
      "tensor([[1., 0., 1., 1.],\n",
      "        [1., 0., 1., 1.],\n",
      "        [1., 0., 1., 1.],\n",
      "        [1., 0., 1., 1.]])\n"
     ]
    }
   ],
   "source": [
    "tensor = torch.ones(4, 4)\n",
    "print(f\"First row: {tensor[0]}\")\n",
    "print(f\"First column: {tensor[:, 0]}\")\n",
    "print(f\"Last column: {tensor[..., -1]}\")\n",
    "tensor[:,1] = 0\n",
    "print(tensor)"
   ]
  },
  {
   "cell_type": "markdown",
   "id": "4d2eb813",
   "metadata": {},
   "source": [
    "#### Concatenating"
   ]
  },
  {
   "cell_type": "code",
   "execution_count": 82,
   "id": "fbaec220",
   "metadata": {},
   "outputs": [
    {
     "name": "stdout",
     "output_type": "stream",
     "text": [
      "tensor([[1., 0., 1., 1., 1., 0., 1., 1., 1., 0., 1., 1.],\n",
      "        [1., 0., 1., 1., 1., 0., 1., 1., 1., 0., 1., 1.],\n",
      "        [1., 0., 1., 1., 1., 0., 1., 1., 1., 0., 1., 1.],\n",
      "        [1., 0., 1., 1., 1., 0., 1., 1., 1., 0., 1., 1.]])\n"
     ]
    }
   ],
   "source": [
    "t1 = torch.cat([tensor, tensor, tensor], dim=1)\n",
    "print(t1)"
   ]
  },
  {
   "cell_type": "markdown",
   "id": "37a1f891",
   "metadata": {},
   "source": [
    "#### Operações aritméticas\n",
    "\n",
    "Multiplicação matricial entre tensores"
   ]
  },
  {
   "cell_type": "code",
   "execution_count": 83,
   "id": "6669b8be",
   "metadata": {},
   "outputs": [
    {
     "name": "stdout",
     "output_type": "stream",
     "text": [
      "Tensor original: \n",
      " tensor([[1., 0., 1., 1.],\n",
      "        [1., 0., 1., 1.],\n",
      "        [1., 0., 1., 1.],\n",
      "        [1., 0., 1., 1.]]) \n",
      "\n",
      "Tensor transposto: \n",
      " tensor([[1., 1., 1., 1.],\n",
      "        [0., 0., 0., 0.],\n",
      "        [1., 1., 1., 1.],\n",
      "        [1., 1., 1., 1.]]) \n",
      "\n",
      "Multiplicação matricial: \n",
      " tensor([[3., 0., 3., 3.],\n",
      "        [3., 0., 3., 3.],\n",
      "        [3., 0., 3., 3.],\n",
      "        [3., 0., 3., 3.]]) \n",
      "\n",
      "Multiplicação matricial com matmul: \n",
      " tensor([[3., 3., 3., 3.],\n",
      "        [3., 3., 3., 3.],\n",
      "        [3., 3., 3., 3.],\n",
      "        [3., 3., 3., 3.]]) \n",
      "\n",
      "Multiplicação elemento por elemento: \n",
      " tensor([[1., 0., 1., 1.],\n",
      "        [1., 0., 1., 1.],\n",
      "        [1., 0., 1., 1.],\n",
      "        [1., 0., 1., 1.]]) \n",
      "\n",
      "Multiplicação elemento por elemento com mul: \n",
      " tensor([[1., 0., 1., 1.],\n",
      "        [1., 0., 1., 1.],\n",
      "        [1., 0., 1., 1.],\n",
      "        [1., 0., 1., 1.]]) \n",
      "\n"
     ]
    }
   ],
   "source": [
    "print(f\"Tensor original: \\n {tensor} \\n\")\n",
    "\n",
    "tensorT = tensor.T\n",
    "print(f\"Tensor transposto: \\n {tensorT} \\n\")\n",
    "\n",
    "y1 = tensor @ tensor #Tensor transposto\n",
    "print(f\"Multiplicação matricial: \\n {y1} \\n\")\n",
    "\n",
    "y2 = tensor.matmul(tensorT)\n",
    "print(f\"Multiplicação matricial com matmul: \\n {y2} \\n\")\n",
    "\n",
    "z1 = tensor * tensor #Elemento por elemento\n",
    "print(f\"Multiplicação elemento por elemento: \\n {z1} \\n\")\n",
    "\n",
    "z2 = tensor.mul(tensor)\n",
    "print(f\"Multiplicação elemento por elemento com mul: \\n {z2} \\n\")"
   ]
  },
  {
   "cell_type": "markdown",
   "id": "c01c1eee",
   "metadata": {},
   "source": [
    "#### Tensores de elemento único\n",
    "\n",
    "Tensores de elemento de único podem ser convertidos para valores numéricos nativos"
   ]
  },
  {
   "cell_type": "code",
   "execution_count": 84,
   "id": "25dcff19",
   "metadata": {},
   "outputs": [
    {
     "name": "stdout",
     "output_type": "stream",
     "text": [
      "12.0 <class 'float'>\n"
     ]
    }
   ],
   "source": [
    "agg = tensor.sum()\n",
    "agg_item = agg.item()\n",
    "print(agg_item, type(agg_item))"
   ]
  },
  {
   "cell_type": "markdown",
   "id": "6ff7d303",
   "metadata": {},
   "source": [
    "#### Operações Diretas\n",
    "\n",
    "Operações podem ser atribuidas diretamente a um tensor com um ```_```"
   ]
  },
  {
   "cell_type": "code",
   "execution_count": 85,
   "id": "d592c32a",
   "metadata": {},
   "outputs": [
    {
     "name": "stdout",
     "output_type": "stream",
     "text": [
      "Tensor original: \n",
      " tensor([[1., 0., 1., 1.],\n",
      "        [1., 0., 1., 1.],\n",
      "        [1., 0., 1., 1.],\n",
      "        [1., 0., 1., 1.]]) \n",
      "\n",
      "Tensor após adição direta: \n",
      " tensor([[6., 5., 6., 6.],\n",
      "        [6., 5., 6., 6.],\n",
      "        [6., 5., 6., 6.],\n",
      "        [6., 5., 6., 6.]]) \n",
      "\n"
     ]
    }
   ],
   "source": [
    "print(f\"Tensor original: \\n {tensor} \\n\")\n",
    "tensor.add_(5)\n",
    "print(f\"Tensor após adição direta: \\n {tensor} \\n\")"
   ]
  },
  {
   "cell_type": "markdown",
   "id": "03738b53",
   "metadata": {},
   "source": [
    "# Compatibilidade com Numpy\n",
    "\n",
    "Tensores e ```np.array``` podem compartilhar o mesmo espaço de memória"
   ]
  },
  {
   "cell_type": "code",
   "execution_count": 86,
   "id": "db854f99",
   "metadata": {},
   "outputs": [
    {
     "name": "stdout",
     "output_type": "stream",
     "text": [
      "t: \n",
      " tensor([1., 1., 1., 1., 1.])\n",
      "n: \n",
      " [1. 1. 1. 1. 1.]\n"
     ]
    }
   ],
   "source": [
    "t = torch.ones(5)\n",
    "print(f\"t: \\n {t}\")\n",
    "n = t.numpy()\n",
    "print(f\"n: \\n {n}\")"
   ]
  },
  {
   "cell_type": "markdown",
   "id": "483e57d6",
   "metadata": {},
   "source": [
    "Mudanças no tensor causam mudanças no ```np.array```"
   ]
  },
  {
   "cell_type": "code",
   "execution_count": 87,
   "id": "549eca54",
   "metadata": {},
   "outputs": [
    {
     "name": "stdout",
     "output_type": "stream",
     "text": [
      "t: \n",
      " tensor([2., 2., 2., 2., 2.])\n",
      "n: \n",
      " [2. 2. 2. 2. 2.]\n"
     ]
    }
   ],
   "source": [
    "t.add_(1)\n",
    "print(f\"t: \\n {t}\")\n",
    "print(f\"n: \\n {n}\")"
   ]
  },
  {
   "cell_type": "markdown",
   "id": "0fbdaf19",
   "metadata": {},
   "source": [
    "#### ```np.array```to Tensor"
   ]
  },
  {
   "cell_type": "code",
   "execution_count": 88,
   "id": "03b22d3e",
   "metadata": {},
   "outputs": [],
   "source": [
    "n = np.ones(5)\n",
    "t = torch.from_numpy(n)"
   ]
  },
  {
   "cell_type": "code",
   "execution_count": 89,
   "id": "25c9746e",
   "metadata": {},
   "outputs": [
    {
     "name": "stdout",
     "output_type": "stream",
     "text": [
      "t: \n",
      " tensor([2., 2., 2., 2., 2.], dtype=torch.float64)\n",
      "n: \n",
      " [2. 2. 2. 2. 2.]\n"
     ]
    }
   ],
   "source": [
    "np.add(n, 1, out=n)\n",
    "print(f\"t: \\n {t}\")\n",
    "print(f\"n: \\n {n}\")"
   ]
  }
 ],
 "metadata": {
  "kernelspec": {
   "display_name": "Python 3",
   "language": "python",
   "name": "python3"
  },
  "language_info": {
   "codemirror_mode": {
    "name": "ipython",
    "version": 3
   },
   "file_extension": ".py",
   "mimetype": "text/x-python",
   "name": "python",
   "nbconvert_exporter": "python",
   "pygments_lexer": "ipython3",
   "version": "3.12.10"
  }
 },
 "nbformat": 4,
 "nbformat_minor": 5
}
